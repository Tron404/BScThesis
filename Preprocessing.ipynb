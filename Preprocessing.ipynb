{
 "cells": [
  {
   "cell_type": "code",
   "execution_count": 1,
   "metadata": {},
   "outputs": [],
   "source": [
    "import torch\n",
    "import os\n",
    "\n",
    "device = torch.device(\"cuda:0\") "
   ]
  },
  {
   "cell_type": "code",
   "execution_count": 2,
   "metadata": {},
   "outputs": [
    {
     "data": {
      "text/plain": [
       "True"
      ]
     },
     "execution_count": 2,
     "metadata": {},
     "output_type": "execute_result"
    }
   ],
   "source": [
    "torch.cuda.is_available()"
   ]
  },
  {
   "cell_type": "code",
   "execution_count": 3,
   "metadata": {},
   "outputs": [
    {
     "name": "stdout",
     "output_type": "stream",
     "text": [
      "CLDR.ipynb\t\t  embeddings.py       Preprocessing.ipynb  start_env.sh\r\n",
      "config_cpu.sh\t\t  mapping_methods.py  __pycache__\t   Thesis\r\n",
      "config_gpu.sh\t\t  nltk_data\t      slurm-2254428.out    virtual_env\r\n",
      "doc2vec_embeddings.ipynb  plots\t\t      slurm-2257960.out\r\n"
     ]
    }
   ],
   "source": [
    "!ls"
   ]
  },
  {
   "cell_type": "code",
   "execution_count": 4,
   "metadata": {
    "colab": {
     "base_uri": "https://localhost:8080/"
    },
    "id": "Tx17DtI0ZQQ3",
    "outputId": "02899b97-0f56-45b0-b3a1-aa4b4c45918f"
   },
   "outputs": [
    {
     "name": "stdout",
     "output_type": "stream",
     "text": [
      "mkdir: cannot create directory ‘Thesis’: File exists\n",
      "/home2/s4231317/Thesis\n"
     ]
    }
   ],
   "source": [
    "!mkdir Thesis\n",
    "%cd Thesis"
   ]
  },
  {
   "cell_type": "code",
   "execution_count": 5,
   "metadata": {
    "colab": {
     "base_uri": "https://localhost:8080/"
    },
    "id": "FN3Sbi3NhNWx",
    "outputId": "c6909622-5c3e-4770-a44e-2f80e14e5e31"
   },
   "outputs": [
    {
     "name": "stdout",
     "output_type": "stream",
     "text": [
      "/home2/s4231317/Thesis/Data\n",
      "All data are downloaded\n"
     ]
    }
   ],
   "source": [
    "languages = [\"en\", \"ro\", \"es\", \"fr\", \"de\", \"nl\"]\n",
    "\n",
    "if \"Data\" not in os.listdir(): # first generate the data locally\n",
    "  !mkdir Data\n",
    "\n",
    "  %cd Data\n",
    "\n",
    "  for lang in languages:\n",
    "      if lang in os.listdir():\n",
    "        print(f\"{lang} is already present\")\n",
    "        continue\n",
    "      link = f\"https://wt-public.emm4u.eu/Acquis/JRC-Acquis.3.0/corpus/jrc-{lang}.tgz\"\n",
    "      !wget $link\n",
    "      file_name = f\"jrc-{lang}.tgz\"\n",
    "      !tar xzf $file_name\n",
    "      !rm jrc*\n",
    "      %cd $lang\n",
    "      path = f\"jrc-{lang}.xml\"\n",
    "      !rm $path\n",
    "      path = f\"jrc-{lang}.xml~\"\n",
    "      !rm $path\n",
    "      path = f\"jrcHeader-{lang}.html\"\n",
    "      !rm $path\n",
    "      path = f\"jrcHeader-{lang}.xml\"\n",
    "      !rm $path\n",
    "      path = f\"tei2-ext.dtd\"\n",
    "      !rm $path\n",
    "      path = f\"tei2.dtd\"\n",
    "      !rm $path\n",
    "      %cd ..\n",
    "else:\n",
    "  %cd Data\n",
    "  print(\"All data are downloaded\")\n",
    "    "
   ]
  },
  {
   "cell_type": "code",
   "execution_count": 6,
   "metadata": {
    "id": "O1t-_y-lhfzb"
   },
   "outputs": [],
   "source": [
    "import re\n",
    "import xml.etree.ElementTree as ET\n",
    "from xml.etree.ElementTree import ElementTree\n",
    "from html.entities import html5\n",
    "import pandas as pd\n",
    "from tqdm import tqdm\n",
    "\n",
    "def read_convert_whole(path, lang):\n",
    "  c=[]\n",
    "  for folder in os.listdir(path):\n",
    "    for filename in tqdm(os.listdir(path+\"/\"+folder), desc=f\"{lang}-{folder}\"):\n",
    "        tree = ET.parse(path+\"/\"+folder+\"/\"+filename)\n",
    "        root = tree.getroot()\n",
    "        number = root.attrib[\"n\"]\n",
    "        body = \"\"\n",
    "        \n",
    "        for text in root[1].itertext():\n",
    "          text = re.sub(r\"[\\r\\n\\t\\f\\v]+\", \"\", text) # remove whitespace characters except \" \"\n",
    "          text = re.sub(r\"[ ]{2,}\", \" \", text) # reduce consecutive spaces to singular spaces\n",
    "            \n",
    "          bad_format = re.findall(r\"(%[a-zA-z]+%)\", text) # e.g. %eacute%\n",
    "          if len(bad_format) > 1:\n",
    "            for symbol in bad_format:\n",
    "              symbol = symbol[1:-1] + \";\"\n",
    "              if symbol in html5.keys():\n",
    "                text = re.sub(r\"(%[a-zA-z]+%)\", html5[symbol], text, 1)\n",
    "                \n",
    "          body += text\n",
    "        c.append([number, body]) #,title,body])\n",
    "  df = pd.DataFrame (c,columns=['number', f\"body_{lang}\"]) #,'title','body']) \n",
    "  return df"
   ]
  },
  {
   "cell_type": "code",
   "execution_count": 7,
   "metadata": {
    "scrolled": false
   },
   "outputs": [
    {
     "name": "stdout",
     "output_type": "stream",
     "text": [
      "data_merged.csv  de  en  es  fr  nl  ro  tok_data.pickle\r\n"
     ]
    }
   ],
   "source": [
    "!ls"
   ]
  },
  {
   "cell_type": "code",
   "execution_count": 8,
   "metadata": {
    "id": "D9vis_i1iI6G"
   },
   "outputs": [
    {
     "name": "stdout",
     "output_type": "stream",
     "text": [
      "Data were downloaded - loading\n"
     ]
    }
   ],
   "source": [
    "from functools import reduce\n",
    "\n",
    "if \"data_merged.csv\" not in os.listdir():\n",
    "  dfs = []\n",
    "  cols = [\"number\"]\n",
    "  for lang in languages:\n",
    "      dfs.append(read_convert_whole(lang, lang))\n",
    "      cols.append(f\"body_{lang}\")\n",
    "\n",
    "  df_merged = reduce(lambda left,right:pd.merge(left,right, on=[\"number\"]), dfs)\n",
    "\n",
    "  df_merged.to_csv(\"data_merged.csv\", index=False)\n",
    "else:\n",
    "  print(\"Data were downloaded - loading\")\n",
    "  df_merged = pd.read_csv(\"data_merged.csv\")"
   ]
  },
  {
   "cell_type": "code",
   "execution_count": 9,
   "metadata": {},
   "outputs": [
    {
     "name": "stdout",
     "output_type": "stream",
     "text": [
      "data_merged.csv  de  en  es  fr  nl  ro  tok_data.pickle\r\n"
     ]
    }
   ],
   "source": [
    "!ls"
   ]
  },
  {
   "cell_type": "code",
   "execution_count": 10,
   "metadata": {
    "colab": {
     "base_uri": "https://localhost:8080/",
     "height": 1000
    },
    "id": "ptnNOSBe_zEI",
    "outputId": "379674cf-7b11-4d8c-94ae-8358b715944e"
   },
   "outputs": [
    {
     "data": {
      "text/plain": [
       "'  Verordnung (EWG) Nr. 2264/69 der Kommission vom 13. November 1969 über die Anträge auf Rückvergütung der den 0rganisationen von Obst- und Gemüseerzeugern von den Mitgliedstaaten gewährten Beihilfen  VERORDNUNG (EWG) Nr. 2264/69 DER KOMMISSION vom 13. November 1969 über die Anträge auf Rückvergütung der den Organisationen von Obst- und Gemüseerzeugern von den Mitgliedstaaten gewährten Beihilfen DIE KOMMISSION DER EUROPÄISCHEN GEMEINSCHAFTEN - gestützt auf den Vertrag zur Gründung der Europäischen Wirtschaftsgemeinschaft, gestützt auf die Verordnung Nr. 159/66/EWG des Rates vom 25. Oktober 1966 mit zusätzlichen Vorschriften für die gemeinsame Marktorganisation für Obst und Gemüse (1), gestützt auf die Verordnung (EWG) Nr. 499/69 des Rates vom 11. März 1969 über die Rückvergütung der den Organisationen von Obst- und Gemüseerzeugern von den Mitgliedstaaten gewährten Beihilfen (2), insbesondere auf Artikel 7 Absatz 3, und in Erwägung nachstehender Gründe: Die Anträge auf Rückvergütung der Beihilfen, die den Organisationen von Obst- und Gemüseerzeugern von den Mitgliedstaaten gewährt worden sind, die ihrerseits vom EAGFL, Abteilung Ausrichtung, eine Rückvergütung in Höhe von 50 v.H. der Beihilfen erhalten können, müssen bestimmte Angaben enthalten, die von den Mitgliedstaaten in gleicher Form zu erbringen sind, damit leichter geprüft werden kann, ob sie mit den Bestimmungen der Verordnung Nr. 159/66/EWG und mit den Bestimmungen der Verordnung (EWG) Nr. 449/69 vereinbar sind, und um eine diesbezuegliche Beschlußfassung zu erleichtern. Falls die der Kommission von den Mitgliedstaaten regelmässig übermittelten Unterlagen unzureichend oder inhaltlich unvollständig erscheinen, so daß nicht überprüft werden kann, ob die für die Gewährung der Beihilfen an die Erzeugerorganisationen geforderten Voraussetzungen erfuellt sind, kann die Kommission von dem betreffenden Mitgliedstaat Belege oder zusätzliche Unterlagen anfordern. Die in dieser Verordnung vorgesehenen Maßnahmen entsprechen der Stellungnahme des Fondsausschusses - HAT FOLGENDE VERORDNUNG ERLASSEN: Artikel 1 (1) Die Rückvergütungsanträge der Mitgliedstaaten gemäß Artikel 7 der Verordnung (EWG) Nr. 449/69 müssen entsprechend den als Anlage I zu dieser Verordnung beigefügten Tabellen eingereicht werden. (2) Für jede Erzeugerorganisation sind die in der Anlage II zu dieser Verordnung geforderten Angaben zu übermitteln, damit die Kommission über die erste Vergütung der diesen Organisationen gewährten Beihilfen beschließen kann. Artikel 2 (1) Auf Antrag der Kommission übermittelt ihr der Mitgliedstaat binnen eines Monats die in seinem Besitz befindlichen Belege oder eine beglaubigte Abschrift dieser Belege, die bei der Berechnung der in Artikel 2 Absatz 1 der Verordnung Nr. 159/66/EWG vorgesehenen Beihilfen zugrunde gelegt wurden. (2) Im Hinblick auf eine wirksame Überprüfung des Antrags auf Rückvergütung der in Artikel 2 Absatz 1 der Verordnung Nr. 159/66/EWG vorgesehenen Beihilfen übersendet der Mitgliedstaat der Kommission auf deren Antrag binnen einer festgesetzten Frist andere Belege oder Unterlagen als die in Absatz 1 vorgesehenen, die möglicherweise für die Berechnung der vorgenannten Beihilfen wichtig sind. Diese Verordnung ist in allen ihren Teilen verbindlich und gilt unmittelbar in jedem Mitgliedstaat.   Brüssel, den 13. November 1969 Für die Kommission Der Präsident Jean REY (1)ABl. Nr. 192 vom 27.10.1966, S. 3286/66. (2)ABl. Nr. L 61 vom 12.3.1969, S. 2.   ANLAGE I >PIC FILE= \"T0010905\"> >PIC FILE= \"T0010906\"> ANLAGE II >PIC FILE= \"T9001162\"> 2. Welche technischen Hilfsmittel stehen den Erzeugern zur Aufmachung und Vermarktung der Erzeugnisse zur Verfügung? 3. Wie ist die Verpflichtung der Mitglieder der Erzeugerorganisation zur vollständigen Ablieferung ihrer Produktion in der Satzung verankert und wie wird diese Verpflichtung in der Praxis eingehalten? 4. Gegebenenfalls : Welche Mengen dürfen die Produzenten mit Genehmigung der Erzeugerorganisation selbst vermarkten? 5. Gibt es von der Erzeugerorganisation angewandte Produktionsvorschriften? 6. Gibt es von der Erzeugerorganisation angewandte Vermarktungsvorschriften?   '"
      ]
     },
     "execution_count": 10,
     "metadata": {},
     "output_type": "execute_result"
    }
   ],
   "source": [
    "df_merged[\"body_de\"][0]"
   ]
  },
  {
   "cell_type": "code",
   "execution_count": 11,
   "metadata": {},
   "outputs": [
    {
     "data": {
      "text/plain": [
       "(6487, 7)"
      ]
     },
     "execution_count": 11,
     "metadata": {},
     "output_type": "execute_result"
    }
   ],
   "source": [
    "df_merged.shape"
   ]
  },
  {
   "cell_type": "code",
   "execution_count": 12,
   "metadata": {
    "colab": {
     "base_uri": "https://localhost:8080/"
    },
    "id": "W2gJUJWAYlug",
    "outputId": "0eee9573-8e75-4373-dc3d-5bc7fcac5bdf"
   },
   "outputs": [
    {
     "name": "stdout",
     "output_type": "stream",
     "text": [
      "/home2/s4231317/Thesis\n",
      "/home2/s4231317/Thesis/Models\n",
      "Git LFS initialized.\n",
      "bert-base-multilingual-uncased has already been downloaded\n",
      "xlm-roberta-base has already been downloaded\n",
      "mt5-base has already been downloaded\n",
      "ernie-m-base_pytorch has already been downloaded\n",
      "/home2/s4231317/Thesis\n"
     ]
    }
   ],
   "source": [
    "import torch\n",
    "\n",
    "device = torch.device(\"cuda:0\") \n",
    "\n",
    "# \"facebook/xlm-v-base\", \"xlm-roberta-base\", \"google/mt5-base\", \"susnato/ernie-m-base_pytorch\", \"bert-base-multilingual-cased\", \n",
    "model_names = [\"bert-base-multilingual-uncased\", \"xlm-roberta-base\", \"google/mt5-base\", \"susnato/ernie-m-base_pytorch\"]\n",
    "\n",
    "%cd ~/Thesis\n",
    "\n",
    "if \"Models\" not in os.listdir():\n",
    "  !mkdir Models\n",
    "\n",
    "%cd Models  \n",
    "!git lfs install\n",
    "for model_name in model_names:\n",
    "  aux = model_name.split(\"/\")\n",
    "  aux = aux[1] if len(aux) > 1 else aux[0]\n",
    "  if aux in os.listdir():\n",
    "    print(f\"{aux} has already been downloaded\")\n",
    "    continue\n",
    "  !git clone https://huggingface.co/$model_name\n",
    "    \n",
    "%cd ..\n"
   ]
  },
  {
   "cell_type": "code",
   "execution_count": 13,
   "metadata": {
    "colab": {
     "base_uri": "https://localhost:8080/"
    },
    "id": "FVUPV6qC0u69",
    "outputId": "817042d0-5828-4fa7-eb7d-a11b5af0be0f"
   },
   "outputs": [
    {
     "name": "stdout",
     "output_type": "stream",
     "text": [
      "Data  Embeddings  Models  thesis_code\r\n"
     ]
    }
   ],
   "source": [
    "!ls"
   ]
  },
  {
   "cell_type": "code",
   "execution_count": 18,
   "metadata": {
    "id": "3CbJrPrNoakl"
   },
   "outputs": [],
   "source": [
    "# models = [\"bert-base-multilingual-uncased\", \"mt5-base\", \"ernie-m-base_pytorch\", \"xlm-roberta-base\"]\n",
    "models = [\"bert-base-multilingual-uncased\", \"mt5-base\", \"xlm-roberta-base\"]\n",
    "languages = [\"en\", \"fr\"]"
   ]
  },
  {
   "cell_type": "code",
   "execution_count": 19,
   "metadata": {
    "id": "zpoZ8oWTHcIO"
   },
   "outputs": [],
   "source": [
    "import torch.multiprocessing as mp\n",
    "from embeddings import get_embeddings\n",
    "\n",
    "def get_embeddings_loop(lang, data, folder_name): \n",
    "  processes = []\n",
    "  path = f\"Embeddings/{folder_name}/\"\n",
    "  for model_name in models:\n",
    "      if f\"emb_{model_name}_{lang}.npy\" in os.listdir(path):\n",
    "        print(f\"{model_name} for {lang} was already used to create embeddings, going to next model\")\n",
    "        continue\n",
    "\n",
    "      p = mp.Process(target=get_embeddings, args=(data, lang, model_name, path))\n",
    "      p.start()\n",
    "      processes.append(p)\n",
    "\n",
    "  for p in processes:\n",
    "    p.join()"
   ]
  },
  {
   "cell_type": "code",
   "execution_count": null,
   "metadata": {
    "colab": {
     "base_uri": "https://localhost:8080/"
    },
    "id": "LrAbp2GfYvY8",
    "outputId": "87eadb44-af3f-4634-920f-8483d3a5b6d7",
    "scrolled": false
   },
   "outputs": [],
   "source": [
    "sample_max = 7000\n",
    "\n",
    "%cd ~/Thesis\n",
    "\n",
    "!mkdir Embeddings\n",
    "\n",
    "if __name__ == \"__main__\":\n",
    "  for lang in languages:\n",
    "    mp.set_start_method('spawn', force=True)\n",
    "    folder_name = f\"{lang}\"\n",
    "    !mkdir Embeddings/$folder_name\n",
    "\n",
    "    get_embeddings_loop(lang, df_merged[f\"body_{lang}\"][:sample_max], folder_name)"
   ]
  }
 ],
 "metadata": {
  "accelerator": "GPU",
  "colab": {
   "provenance": []
  },
  "gpuClass": "standard",
  "kernelspec": {
   "display_name": "Python 3 (ipykernel)",
   "language": "python",
   "name": "python3"
  },
  "language_info": {
   "codemirror_mode": {
    "name": "ipython",
    "version": 3
   },
   "file_extension": ".py",
   "mimetype": "text/x-python",
   "name": "python",
   "nbconvert_exporter": "python",
   "pygments_lexer": "ipython3",
   "version": "3.10.4"
  }
 },
 "nbformat": 4,
 "nbformat_minor": 1
}
